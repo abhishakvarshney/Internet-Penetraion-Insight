{
 "cells": [
  {
   "cell_type": "code",
   "execution_count": 1,
   "metadata": {},
   "outputs": [],
   "source": [
    "import requests\n",
    "import pandas as pd\n",
    "import numpy as np"
   ]
  },
  {
   "cell_type": "code",
   "execution_count": 2,
   "metadata": {},
   "outputs": [],
   "source": [
    "#specify a web page for inspection\n",
    "url = 'https://www.internetworldstats.com/list2.htm#a-c'\n",
    "html = requests.get(url).content"
   ]
  },
  {
   "cell_type": "code",
   "execution_count": 3,
   "metadata": {},
   "outputs": [],
   "source": [
    "df_list = pd.read_html(html)"
   ]
  },
  {
   "cell_type": "code",
   "execution_count": 4,
   "metadata": {},
   "outputs": [],
   "source": [
    "df_a_c = df_list[5]\n",
    "df_d_j = df_list[8]\n",
    "df_k_p = df_list[11]\n",
    "df_q_z = df_list[14]"
   ]
  },
  {
   "cell_type": "code",
   "execution_count": 5,
   "metadata": {},
   "outputs": [],
   "source": [
    "df = df_a_c"
   ]
  },
  {
   "cell_type": "code",
   "execution_count": 6,
   "metadata": {},
   "outputs": [],
   "source": [
    "df = df.append(df_d_j[1:], ignore_index=True)\n",
    "df = df.append(df_k_p[1:], ignore_index=True)\n",
    "df = df.append(df_q_z[1:], ignore_index=True)\n",
    "df = df[:len(df)-2]"
   ]
  },
  {
   "cell_type": "code",
   "execution_count": 7,
   "metadata": {},
   "outputs": [],
   "source": [
    "df.to_csv('my data.csv')"
   ]
  },
  {
   "cell_type": "code",
   "execution_count": 8,
   "metadata": {},
   "outputs": [],
   "source": [
    "data = pd.read_csv('my data.csv')"
   ]
  },
  {
   "cell_type": "code",
   "execution_count": 9,
   "metadata": {},
   "outputs": [],
   "source": [
    "data.columns = data.iloc[0]"
   ]
  },
  {
   "cell_type": "code",
   "execution_count": 10,
   "metadata": {},
   "outputs": [],
   "source": [
    "data = data.reindex(data.index.drop(0))"
   ]
  },
  {
   "cell_type": "code",
   "execution_count": 11,
   "metadata": {},
   "outputs": [],
   "source": [
    "data = data.drop(data.columns[0],axis=1)"
   ]
  },
  {
   "cell_type": "code",
   "execution_count": 12,
   "metadata": {},
   "outputs": [
    {
     "data": {
      "text/html": [
       "<div>\n",
       "<style scoped>\n",
       "    .dataframe tbody tr th:only-of-type {\n",
       "        vertical-align: middle;\n",
       "    }\n",
       "\n",
       "    .dataframe tbody tr th {\n",
       "        vertical-align: top;\n",
       "    }\n",
       "\n",
       "    .dataframe thead th {\n",
       "        text-align: right;\n",
       "    }\n",
       "</style>\n",
       "<table border=\"1\" class=\"dataframe\">\n",
       "  <thead>\n",
       "    <tr style=\"text-align: right;\">\n",
       "      <th></th>\n",
       "      <th>Country or Region Name</th>\n",
       "      <th>Sym -bol</th>\n",
       "      <th>Size (sq. km.)</th>\n",
       "      <th>Population (2018 est.)</th>\n",
       "      <th>Internet Users</th>\n",
       "      <th>Internet Penetration</th>\n",
       "      <th>Data date</th>\n",
       "    </tr>\n",
       "  </thead>\n",
       "  <tbody>\n",
       "    <tr>\n",
       "      <th>1</th>\n",
       "      <td>Afghanistan</td>\n",
       "      <td>AF</td>\n",
       "      <td>645807</td>\n",
       "      <td>36373176</td>\n",
       "      <td>5700905</td>\n",
       "      <td>15.7 %</td>\n",
       "      <td>Dec/2017</td>\n",
       "    </tr>\n",
       "    <tr>\n",
       "      <th>2</th>\n",
       "      <td>Africa</td>\n",
       "      <td>--</td>\n",
       "      <td>30221532</td>\n",
       "      <td>1287914329</td>\n",
       "      <td>453329534</td>\n",
       "      <td>35.2 %</td>\n",
       "      <td>Dec/2017</td>\n",
       "    </tr>\n",
       "    <tr>\n",
       "      <th>3</th>\n",
       "      <td>Aland Islands</td>\n",
       "      <td>AX</td>\n",
       "      <td>1580</td>\n",
       "      <td>28666</td>\n",
       "      <td>NaN</td>\n",
       "      <td>NaN</td>\n",
       "      <td>Dec/2014</td>\n",
       "    </tr>\n",
       "    <tr>\n",
       "      <th>4</th>\n",
       "      <td>Albania</td>\n",
       "      <td>AL</td>\n",
       "      <td>28748</td>\n",
       "      <td>2911428</td>\n",
       "      <td>1916233</td>\n",
       "      <td>65.8 %</td>\n",
       "      <td>Mar/2017</td>\n",
       "    </tr>\n",
       "    <tr>\n",
       "      <th>5</th>\n",
       "      <td>Algeria</td>\n",
       "      <td>DZ</td>\n",
       "      <td>2381741</td>\n",
       "      <td>42008054</td>\n",
       "      <td>18580000</td>\n",
       "      <td>44.2 %</td>\n",
       "      <td>Mar/2017</td>\n",
       "    </tr>\n",
       "  </tbody>\n",
       "</table>\n",
       "</div>"
      ],
      "text/plain": [
       "0 Country or Region Name Sym -bol Size (sq. km.) Population (2018 est.)  \\\n",
       "1            Afghanistan       AF         645807               36373176   \n",
       "2                 Africa       --       30221532             1287914329   \n",
       "3          Aland Islands       AX           1580                  28666   \n",
       "4                Albania       AL          28748                2911428   \n",
       "5                Algeria       DZ        2381741               42008054   \n",
       "\n",
       "0 Internet Users Internet Penetration Data date  \n",
       "1        5700905               15.7 %  Dec/2017  \n",
       "2      453329534               35.2 %  Dec/2017  \n",
       "3            NaN                  NaN  Dec/2014  \n",
       "4        1916233               65.8 %  Mar/2017  \n",
       "5       18580000               44.2 %  Mar/2017  "
      ]
     },
     "execution_count": 12,
     "metadata": {},
     "output_type": "execute_result"
    }
   ],
   "source": [
    "data.head()"
   ]
  },
  {
   "cell_type": "code",
   "execution_count": 13,
   "metadata": {},
   "outputs": [
    {
     "name": "stdout",
     "output_type": "stream",
     "text": [
      "Total no. of rows and columns:  (267, 7)\n"
     ]
    }
   ],
   "source": [
    "print(\"Total no. of rows and columns: \", data.shape)"
   ]
  },
  {
   "cell_type": "code",
   "execution_count": 14,
   "metadata": {},
   "outputs": [
    {
     "data": {
      "text/html": [
       "<div>\n",
       "<style scoped>\n",
       "    .dataframe tbody tr th:only-of-type {\n",
       "        vertical-align: middle;\n",
       "    }\n",
       "\n",
       "    .dataframe tbody tr th {\n",
       "        vertical-align: top;\n",
       "    }\n",
       "\n",
       "    .dataframe thead th {\n",
       "        text-align: right;\n",
       "    }\n",
       "</style>\n",
       "<table border=\"1\" class=\"dataframe\">\n",
       "  <thead>\n",
       "    <tr style=\"text-align: right;\">\n",
       "      <th></th>\n",
       "      <th>Country or Region Name</th>\n",
       "      <th>Sym -bol</th>\n",
       "      <th>Size (sq. km.)</th>\n",
       "      <th>Population (2018 est.)</th>\n",
       "      <th>Internet Users</th>\n",
       "      <th>Internet Penetration</th>\n",
       "      <th>Data date</th>\n",
       "    </tr>\n",
       "  </thead>\n",
       "  <tbody>\n",
       "    <tr>\n",
       "      <th>count</th>\n",
       "      <td>267</td>\n",
       "      <td>266</td>\n",
       "      <td>264</td>\n",
       "      <td>262</td>\n",
       "      <td>255</td>\n",
       "      <td>255</td>\n",
       "      <td>267</td>\n",
       "    </tr>\n",
       "    <tr>\n",
       "      <th>unique</th>\n",
       "      <td>267</td>\n",
       "      <td>251</td>\n",
       "      <td>256</td>\n",
       "      <td>256</td>\n",
       "      <td>249</td>\n",
       "      <td>222</td>\n",
       "      <td>9</td>\n",
       "    </tr>\n",
       "    <tr>\n",
       "      <th>top</th>\n",
       "      <td>Belgium</td>\n",
       "      <td>--</td>\n",
       "      <td>21</td>\n",
       "      <td>759451</td>\n",
       "      <td>5230000</td>\n",
       "      <td>57.0 %</td>\n",
       "      <td>Dec/2013</td>\n",
       "    </tr>\n",
       "    <tr>\n",
       "      <th>freq</th>\n",
       "      <td>1</td>\n",
       "      <td>9</td>\n",
       "      <td>2</td>\n",
       "      <td>2</td>\n",
       "      <td>2</td>\n",
       "      <td>3</td>\n",
       "      <td>109</td>\n",
       "    </tr>\n",
       "  </tbody>\n",
       "</table>\n",
       "</div>"
      ],
      "text/plain": [
       "0      Country or Region Name Sym -bol Size (sq. km.) Population (2018 est.)  \\\n",
       "count                     267      266            264                    262   \n",
       "unique                    267      251            256                    256   \n",
       "top                   Belgium       --             21                 759451   \n",
       "freq                        1        9              2                      2   \n",
       "\n",
       "0      Internet Users Internet Penetration Data date  \n",
       "count             255                  255       267  \n",
       "unique            249                  222         9  \n",
       "top           5230000               57.0 %  Dec/2013  \n",
       "freq                2                    3       109  "
      ]
     },
     "execution_count": 14,
     "metadata": {},
     "output_type": "execute_result"
    }
   ],
   "source": [
    "data.describe()"
   ]
  },
  {
   "cell_type": "code",
   "execution_count": 15,
   "metadata": {},
   "outputs": [],
   "source": [
    "data = pd.DataFrame(data)"
   ]
  },
  {
   "cell_type": "code",
   "execution_count": 16,
   "metadata": {},
   "outputs": [
    {
     "data": {
      "text/plain": [
       "0\n",
       "Country or Region Name     0\n",
       "Sym -bol                   1\n",
       "Size (sq. km.)             3\n",
       "Population (2018 est.)     5\n",
       "Internet Users            12\n",
       "Internet Penetration      12\n",
       "Data date                  0\n",
       "dtype: int64"
      ]
     },
     "execution_count": 16,
     "metadata": {},
     "output_type": "execute_result"
    }
   ],
   "source": [
    "data.isnull().sum()"
   ]
  },
  {
   "cell_type": "code",
   "execution_count": 17,
   "metadata": {},
   "outputs": [
    {
     "name": "stderr",
     "output_type": "stream",
     "text": [
      "/home/varshney/.local/lib/python3.6/site-packages/ipykernel_launcher.py:1: FutureWarning: convert_objects is deprecated.  To re-infer data dtypes for object columns, use DataFrame.infer_objects()\n",
      "For all other conversions use the data-type specific converters pd.to_datetime, pd.to_timedelta and pd.to_numeric.\n",
      "  \"\"\"Entry point for launching an IPython kernel.\n"
     ]
    }
   ],
   "source": [
    "data = data.convert_objects(convert_numeric=True)"
   ]
  },
  {
   "cell_type": "code",
   "execution_count": 18,
   "metadata": {},
   "outputs": [],
   "source": [
    "data['Internet Penetration'] = data['Internet Penetration'].str.replace('%','').astype(np.float64)"
   ]
  },
  {
   "cell_type": "code",
   "execution_count": 19,
   "metadata": {},
   "outputs": [
    {
     "data": {
      "text/plain": [
       "0\n",
       "Country or Region Name     object\n",
       "Sym -bol                   object\n",
       "Size (sq. km.)            float64\n",
       "Population (2018 est.)    float64\n",
       "Internet Users            float64\n",
       "Internet Penetration      float64\n",
       "Data date                  object\n",
       "dtype: object"
      ]
     },
     "execution_count": 19,
     "metadata": {},
     "output_type": "execute_result"
    }
   ],
   "source": [
    "data.dtypes"
   ]
  },
  {
   "cell_type": "code",
   "execution_count": 20,
   "metadata": {},
   "outputs": [],
   "source": [
    "data[['Size (sq. km.)','Population (2018 est.)', 'Sym -bol']] = data[['Size (sq. km.)','Population (2018 est.)', 'Sym -bol']].fillna(0)"
   ]
  },
  {
   "cell_type": "code",
   "execution_count": 21,
   "metadata": {},
   "outputs": [],
   "source": [
    "data[['Internet Penetration','Internet Users']] = data[['Internet Penetration','Internet Users']].fillna(0)"
   ]
  },
  {
   "cell_type": "code",
   "execution_count": 22,
   "metadata": {},
   "outputs": [
    {
     "data": {
      "text/plain": [
       "0\n",
       "Country or Region Name    0\n",
       "Sym -bol                  0\n",
       "Size (sq. km.)            0\n",
       "Population (2018 est.)    0\n",
       "Internet Users            0\n",
       "Internet Penetration      0\n",
       "Data date                 0\n",
       "dtype: int64"
      ]
     },
     "execution_count": 22,
     "metadata": {},
     "output_type": "execute_result"
    }
   ],
   "source": [
    "data.isnull().sum()"
   ]
  },
  {
   "cell_type": "code",
   "execution_count": 23,
   "metadata": {},
   "outputs": [],
   "source": [
    "from sklearn.preprocessing import scale\n",
    "import seaborn as sns\n",
    "import matplotlib.pyplot as plt"
   ]
  },
  {
   "cell_type": "code",
   "execution_count": 24,
   "metadata": {},
   "outputs": [],
   "source": [
    "x_scaled = scale(data['Internet Users'].sort_values())"
   ]
  },
  {
   "cell_type": "code",
   "execution_count": 25,
   "metadata": {},
   "outputs": [],
   "source": [
    "y_scaled = scale(data['Size (sq. km.)'].sort_values())"
   ]
  },
  {
   "cell_type": "code",
   "execution_count": 26,
   "metadata": {},
   "outputs": [
    {
     "data": {
      "image/png": "[encoded data removed]",
      "text/plain": [
       "<Figure size 432x288 with 1 Axes>"
      ]
     },
     "metadata": {},
     "output_type": "display_data"
    },
    {
     "data": {
      "text/plain": [
       "<Figure size 432x288 with 0 Axes>"
      ]
     },
     "metadata": {},
     "output_type": "display_data"
    }
   ],
   "source": [
    "sns.set()\n",
    "plt.plot(x_scaled , y_scaled)\n",
    "plt.xlabel('Internet_user')\n",
    "plt.ylabel('Size per (sq.km)')\n",
    "plt.show()\n",
    "plt.savefig('Internet_user_Size_per_sq.km.png')"
   ]
  },
  {
   "cell_type": "code",
   "execution_count": 27,
   "metadata": {},
   "outputs": [],
   "source": [
    "x_scaled_internet = scale(data['Internet Penetration'].sort_values())"
   ]
  },
  {
   "cell_type": "code",
   "execution_count": 28,
   "metadata": {},
   "outputs": [
    {
     "data": {
      "image/png": "[encoded data removed]",
      "text/plain": [
       "<Figure size 432x288 with 1 Axes>"
      ]
     },
     "metadata": {},
     "output_type": "display_data"
    },
    {
     "data": {
      "text/plain": [
       "<Figure size 432x288 with 0 Axes>"
      ]
     },
     "metadata": {},
     "output_type": "display_data"
    }
   ],
   "source": [
    "plt.scatter(x_scaled_internet , y_scaled)\n",
    "plt.xlabel('Internet penetration')\n",
    "plt.ylabel('Size per (sq.km)')\n",
    "plt.ylim((-0.3,0))\n",
    "plt.show()\n",
    "plt.savefig('Internet_penetration_Size_per_sq.km.png')"
   ]
  },
  {
   "cell_type": "code",
   "execution_count": 29,
   "metadata": {},
   "outputs": [
    {
     "name": "stderr",
     "output_type": "stream",
     "text": [
      "/home/varshney/.local/lib/python3.6/site-packages/sklearn/preprocessing/data.py:176: UserWarning: Numerical issues were encountered when centering the data and might not be solved. Dataset may contain too large values. You may need to prescale your features.\n",
      "  warnings.warn(\"Numerical issues were encountered \"\n"
     ]
    }
   ],
   "source": [
    "population_scaled = scale(data['Population (2018 est.)'].sort_values())"
   ]
  },
  {
   "cell_type": "code",
   "execution_count": 30,
   "metadata": {},
   "outputs": [
    {
     "data": {
      "image/png": "[encoded data removed]",
      "text/plain": [
       "<Figure size 432x288 with 1 Axes>"
      ]
     },
     "metadata": {},
     "output_type": "display_data"
    },
    {
     "data": {
      "text/plain": [
       "<Figure size 432x288 with 0 Axes>"
      ]
     },
     "metadata": {},
     "output_type": "display_data"
    }
   ],
   "source": [
    "plt.plot(population_scaled , y_scaled)\n",
    "plt.xlim((-0.3,0.2))\n",
    "plt.ylim((-0.3,0.5))\n",
    "plt.xlabel('population')\n",
    "plt.ylabel('Size per (sq.km)')\n",
    "plt.show()\n",
    "plt.savefig('population_Size_per_sq.km.png')"
   ]
  },
  {
   "cell_type": "code",
   "execution_count": 31,
   "metadata": {},
   "outputs": [
    {
     "data": {
      "image/png": "[encoded data removed]",
      "text/plain": [
       "<Figure size 432x288 with 1 Axes>"
      ]
     },
     "metadata": {},
     "output_type": "display_data"
    },
    {
     "data": {
      "text/plain": [
       "<Figure size 432x288 with 0 Axes>"
      ]
     },
     "metadata": {},
     "output_type": "display_data"
    }
   ],
   "source": [
    "plt.scatter(population_scaled , x_scaled)\n",
    "plt.xlim((-0.3,0.3))\n",
    "plt.ylim((-0.3,0.4))\n",
    "plt.xlabel('population')\n",
    "plt.ylabel('Internet Users')\n",
    "plt.show()\n",
    "plt.savefig('population_Internet_User.png')"
   ]
  },
  {
   "cell_type": "code",
   "execution_count": 32,
   "metadata": {},
   "outputs": [],
   "source": [
    "import pymysql\n",
    "from sqlalchemy import create_engine"
   ]
  },
  {
   "cell_type": "code",
   "execution_count": 33,
   "metadata": {},
   "outputs": [],
   "source": [
    "engine = create_engine(\"mysql+pymysql://varshney:@localhost/db_country?charset=utf8\")"
   ]
  },
  {
   "cell_type": "code",
   "execution_count": 34,
   "metadata": {},
   "outputs": [],
   "source": [
    "con = engine.connect()"
   ]
  },
  {
   "cell_type": "code",
   "execution_count": 35,
   "metadata": {},
   "outputs": [],
   "source": [
    "data.to_sql(name='country_table',con=con,if_exists='replace')"
   ]
  },
  {
   "cell_type": "code",
   "execution_count": 36,
   "metadata": {},
   "outputs": [
    {
     "data": {
      "text/plain": [
       "[(1, 'Afghanistan', 'AF', 645807.0, 36373176.0, 5700905.0, 15.7, 'Dec/2017'),\n",
       " (2, 'Africa', '--', 30221532.0, 1287914329.0, 453329534.0, 35.2, 'Dec/2017'),\n",
       " (3, 'Aland Islands', 'AX', 1580.0, 28666.0, 0.0, 0.0, 'Dec/2014'),\n",
       " (4, 'Albania', 'AL', 28748.0, 2911428.0, 1916233.0, 65.8, 'Mar/2017'),\n",
       " (5, 'Algeria', 'DZ', 2381741.0, 42008054.0, 18580000.0, 44.2, 'Mar/2017'),\n",
       " (6, 'American Samoa', 'AS', 197.0, 55653.0, 22000.0, 39.5, 'Mar/2017'),\n",
       " (7, 'Andorra', 'AD', 464.0, 68728.0, 83728.0, 100.0, 'Mar/2017'),\n",
       " (8, 'Angola', 'AO', 1246700.0, 20655513.0, 5951453.0, 22.3, 'Mar/2017'),\n",
       " (9, 'Anguilla', 'AI', 96.0, 14906.0, 12557.0, 84.2, 'Mar/2017'),\n",
       " (10, 'Antarctica', 'AQ', 13209000.0, 2700.0, 4400.0, 100.0, 'Mar/2017')]"
      ]
     },
     "execution_count": 36,
     "metadata": {},
     "output_type": "execute_result"
    }
   ],
   "source": [
    "engine.execute(\"SELECT * FROM country_table LIMIT 10\" ).fetchall()"
   ]
  },
  {
   "cell_type": "code",
   "execution_count": 37,
   "metadata": {},
   "outputs": [
    {
     "name": "stderr",
     "output_type": "stream",
     "text": [
      "/home/varshney/.local/lib/python3.6/site-packages/pymysql/cursors.py:170: Warning: (1365, 'Division by 0')\n",
      "  result = self._query(query)\n"
     ]
    },
    {
     "data": {
      "text/plain": [
       "[('Macao, (China)',)]"
      ]
     },
     "execution_count": 37,
     "metadata": {},
     "output_type": "execute_result"
    }
   ],
   "source": [
    "engine.execute(\"SELECT `Country or Region Name` FROM country_table WHERE (`Internet Users`/`Size (sq. km.)`) = (select MAX(`Internet Users`/`Size (sq. km.)`) from country_table)\").fetchall()"
   ]
  },
  {
   "cell_type": "code",
   "execution_count": 38,
   "metadata": {},
   "outputs": [
    {
     "data": {
      "text/plain": [
       "[(138,)]"
      ]
     },
     "execution_count": 38,
     "metadata": {},
     "output_type": "execute_result"
    }
   ],
   "source": [
    "engine.execute(\"select count(`Country or Region Name`) from country_table where `Internet Penetration`>30 AND `Population (2018 est.)`<34169169\").fetchall()"
   ]
  },
  {
   "cell_type": "code",
   "execution_count": 39,
   "metadata": {},
   "outputs": [
    {
     "data": {
      "text/plain": [
       "[('A', 5431199.833333333),\n",
       " ('B', 512126.0),\n",
       " ('C', 7444466.2),\n",
       " ('D', 28944.5),\n",
       " ('E', 1713542.7),\n",
       " ('F', 127018.5),\n",
       " ('G', 220637.88888888888),\n",
       " ('H', 38981.166666666664),\n",
       " ('I', 885742.8888888889),\n",
       " ('J', 119565.25)]"
      ]
     },
     "execution_count": 39,
     "metadata": {},
     "output_type": "execute_result"
    }
   ],
   "source": [
    "engine.execute(\"select left(`Country or Region Name`,1) as country, avg(`Size (sq. km.)`) as area from country_table group by country limit 10\").fetchall()"
   ]
  },
  {
   "cell_type": "code",
   "execution_count": 40,
   "metadata": {},
   "outputs": [
    {
     "data": {
      "text/plain": [
       "[(267,)]"
      ]
     },
     "execution_count": 40,
     "metadata": {},
     "output_type": "execute_result"
    }
   ],
   "source": [
    "engine.execute('select count(`Country or Region Name`) from country_table where `Internet Penetration` < BIN(10)').fetchall()"
   ]
  },
  {
   "cell_type": "code",
   "execution_count": 41,
   "metadata": {},
   "outputs": [
    {
     "data": {
      "text/plain": [
       "[('Africa',),\n",
       " ('Asia',),\n",
       " ('Caribbean, the',),\n",
       " ('Central America',),\n",
       " ('Europe',),\n",
       " ('Middle East',),\n",
       " ('North America',),\n",
       " ('Oceania',),\n",
       " ('South America',)]"
      ]
     },
     "execution_count": 41,
     "metadata": {},
     "output_type": "execute_result"
    }
   ],
   "source": [
    "engine.execute('select `Country or Region Name` from country_table where `Sym -bol` regexp \"[^a-z0-9]+\"').fetchall()"
   ]
  },
  {
   "cell_type": "code",
   "execution_count": 42,
   "metadata": {},
   "outputs": [
    {
     "data": {
      "text/plain": [
       "[('Asia', 'Dec/2017')]"
      ]
     },
     "execution_count": 42,
     "metadata": {},
     "output_type": "execute_result"
    }
   ],
   "source": [
    "engine.execute(\"SELECT `Country or Region Name`, `Data date` FROM country_table WHERE (`Internet Users`) = (select MAX(`Internet Users`) from country_table)\").fetchall()"
   ]
  },
  {
   "cell_type": "code",
   "execution_count": 43,
   "metadata": {},
   "outputs": [
    {
     "data": {
      "text/plain": [
       "[('Afghanistan',),\n",
       " ('Albania',),\n",
       " ('Argentina',),\n",
       " ('Australia',),\n",
       " ('Azerbaijan',),\n",
       " ('Belgium',),\n",
       " ('Bolivia',),\n",
       " ('Brazil',),\n",
       " ('Canada',),\n",
       " ('Colombia',)]"
      ]
     },
     "execution_count": 43,
     "metadata": {},
     "output_type": "execute_result"
    }
   ],
   "source": [
    "engine.execute(\"select `Country or Region Name` from country_table where substring(`Country or Region Name`,2,1) = substring(`Sym -bol`,2,1) LIMIT 10\").fetchall()"
   ]
  },
  {
   "cell_type": "code",
   "execution_count": null,
   "metadata": {},
   "outputs": [],
   "source": []
  }
 ],
 "metadata": {
  "kernelspec": {
   "display_name": "Python 3",
   "language": "python",
   "name": "python3"
  },
  "language_info": {
   "codemirror_mode": {
    "name": "ipython",
    "version": 3
   },
   "file_extension": ".py",
   "mimetype": "text/x-python",
   "name": "python",
   "nbconvert_exporter": "python",
   "pygments_lexer": "ipython3",
   "version": "3.6.7"
  }
 },
 "nbformat": 4,
 "nbformat_minor": 2
}
